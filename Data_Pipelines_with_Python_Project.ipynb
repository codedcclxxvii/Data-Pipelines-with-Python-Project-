{
  "nbformat": 4,
  "nbformat_minor": 0,
  "metadata": {
    "colab": {
      "provenance": [],
      "collapsed_sections": [
        "HPQviDmNtta8",
        "qjFHK1CKty7o",
        "HSsicSdvt4Zs"
      ]
    },
    "kernelspec": {
      "name": "python3",
      "display_name": "Python 3"
    }
  },
  "cells": [
    {
      "cell_type": "markdown",
      "metadata": {
        "id": "y1HW8GjoS7AN"
      },
      "source": [
        "# Data Pipelines with Python Project ~ P.M. Kuria"
      ]
    },
    {
      "cell_type": "markdown",
      "metadata": {
        "id": "kLG2VTrnTvYL"
      },
      "source": [
        "## 1. Defining the Question"
      ]
    },
    {
      "cell_type": "markdown",
      "metadata": {
        "id": "XecOwPNorl2W"
      },
      "source": [
        "### a) Specifying the Data Analysis Question"
      ]
    },
    {
      "cell_type": "markdown",
      "metadata": {
        "id": "ym7-i7auXZPg"
      },
      "source": [
        "As a Data professional, you are required to create an automated data pipeline that can extract billing data from multiple sources and transform it into a structured format for efficient analysis and revenue reporting."
      ]
    },
    {
      "cell_type": "markdown",
      "metadata": {
        "id": "J4wfHZwQrs-t"
      },
      "source": [
        "### b) Defining the Metric for Success"
      ]
    },
    {
      "cell_type": "markdown",
      "metadata": {
        "id": "IuQcoaLFGjkH"
      },
      "source": [
        "Measure of success will be measured by atttempting to have the data pipeline do the following: \n",
        "\n",
        "\n",
        "1. Extract the data: Use Python to read the CSV files and extract the data.\n",
        "2. Clean the data: Perform data cleaning on the extracted data to remove any missing\n",
        "values and outliers. For example, you can replace missing values with an appropriate\n",
        "value or remove them altogether.\n",
        "3. Transform the data: Apply any necessary transformations on the data, such as data\n",
        "type conversion, data aggregation, and data filtering, to prepare the data for analysis.\n",
        "4. Merge the datasets: Join the different datasets into a single dataset that can be used for\n",
        "analysis.\n",
        "5. Load the data: Load the transformed data into a database or a file, such as a CSV file,\n",
        "that can be easily analyzed.\n",
        "6. Automate the process: Automate the data pipeline by scheduling it to run at a specific\n",
        "time, such as daily or weekly so that it can update the analysis data automatically.\n",
        "7. Test the pipeline: Test the data pipeline to ensure it produces the correct results. This can be done by comparing the results with the expected output or using a test dataset.\n",
        "8. Optimize the pipeline: Optimize the data pipeline to improve performance and reduce errors. This can be done by optimizing the code, parallel processing, and reducing the data size.\n",
        "9. Monitor the pipeline: Monitor the data pipeline to ensure that it runs smoothly and that there are no errors or issues.\n"
      ]
    },
    {
      "cell_type": "markdown",
      "metadata": {
        "id": "a9BPYqunry97"
      },
      "source": [
        "### c) Understanding the context "
      ]
    },
    {
      "cell_type": "markdown",
      "metadata": {
        "id": "2jeqV9VPG1tg"
      },
      "source": [
        "Telecom companies often have to extract billing data from multiple CSV files generated from various systems and transform it into a structured format for analysis and revenue reporting. This process can be time-consuming, error-prone, and hinder decision-making. Manually analyzing and reconciling billing data from different sources is a tedious task and often leads to delays in generating revenue reports. Thus, there is a need for an automated data pipeline that can extract billing data from multiple sources and transform it into a structured format for efficient analysis and revenue reporting.\n",
        "\n",
        "Datasets\n",
        "\n",
        "Here are three sample datasets (https://bit.ly/416WE1X) with billing data that can be joined. The datasets contain some missing values and outliers:\n",
        "Dataset 1:\n",
        "\n",
        "● Customer ID (numeric)\n",
        "\n",
        "● Date of purchase (MM/DD/YYYY)\n",
        "\n",
        "● Total amount billed (numeric)\n",
        "\n",
        "● Payment status (categorical - paid, overdue, disputed)\n",
        "\n",
        "● Payment method (categorical - credit card, bank transfer, e-wallet)\n",
        "● Promo code (text)\n",
        "\n",
        "● Country of purchase (categorical)\n",
        "\n",
        "\n",
        "Dataset 2:\n",
        "\n",
        "● Customer ID (numeric)\n",
        "\n",
        "● Date of payment (MM/DD/YYYY)\n",
        "\n",
        "● Amount paid (numeric)\n",
        "\n",
        "● Payment method (categorical - credit card, bank transfer, e-wallet)\n",
        "\n",
        "● Payment status (categorical - paid, overdue, disputed)\n",
        "\n",
        "● Late payment fee (numeric)\n",
        "\n",
        "● Country of payment (categorical)\n",
        "\n",
        "\n",
        "Dataset 3:\n",
        "\n",
        "● Customer ID (numeric)\n",
        "\n",
        "● Date of refund (MM/DD/YYYY)\n",
        "\n",
        "● Refund amount (numeric)\n",
        "\n",
        "● Reason for refund (text)\n",
        "\n",
        "● Country of refund (categorical)\n",
        "\n",
        "Notes:\n",
        "\n",
        "1. The datasets can be joined using Customer ID, Date of purchase/payment/refund, and country of purchase/payment/refund as keys.\n",
        "2. The datasets may contain missing values and outliers for some fields, such as the total amount billed or refund amount.\n",
        "3. The payment status may be missing or incomplete for some of the transactions.\n",
        "4. The promo code field may be empty for some of the purchases.\n",
        "5. The reason for the refund may be missing for some of the refund transactions."
      ]
    },
    {
      "cell_type": "markdown",
      "metadata": {
        "id": "7KMRBJ7zr9HD"
      },
      "source": [
        "### d) Recording the Experimental Design"
      ]
    },
    {
      "cell_type": "markdown",
      "metadata": {
        "id": "YG0dB0_PG5_i"
      },
      "source": [
        "1. Data Importation.\n",
        "2. Data Cleaning.\n",
        "3. Data Tranformation.\n",
        "4. Run the pipeline."
      ]
    },
    {
      "cell_type": "markdown",
      "metadata": {
        "id": "zSGyg6kWsBUl"
      },
      "source": [
        "### e) Data Relevance"
      ]
    },
    {
      "cell_type": "markdown",
      "metadata": {
        "id": "UogUWzkTHJ9D"
      },
      "source": [
        "The dataset used is indisputable, since it is available publicly online and anyone can use the same data to challenge any conclusion arrived at on the analysis performed herein."
      ]
    },
    {
      "cell_type": "markdown",
      "metadata": {
        "id": "iUNbvIvnT7ep"
      },
      "source": [
        "## 2. Data Importation\n"
      ]
    },
    {
      "cell_type": "code",
      "source": [
        "# install pandas\n",
        "import pandas as pd\n",
        "import os"
      ],
      "metadata": {
        "id": "6WPePv_k7ijE"
      },
      "execution_count": 9,
      "outputs": []
    },
    {
      "cell_type": "code",
      "metadata": {
        "id": "STUSuuyTTBgx"
      },
      "source": [
        "# Define the names of the CSV files\n",
        "csv_file1 = 'dataset1.csv'\n",
        "csv_file2 = 'dataset2.csv'\n",
        "csv_file3 = 'dataset3.csv'\n",
        "\n",
        "# Load the datasets\n",
        "dataset1 = pd.read_csv(csv_file1)\n",
        "dataset2 = pd.read_csv(csv_file2)\n",
        "dataset3 = pd.read_csv(csv_file3)"
      ],
      "execution_count": 45,
      "outputs": []
    },
    {
      "cell_type": "code",
      "metadata": {
        "id": "XJn2KjW-WMlG",
        "colab": {
          "base_uri": "https://localhost:8080/"
        },
        "outputId": "1a924af5-b920-41ce-8f6d-e27c671d52a4"
      },
      "source": [
        "dataset1.columns\n"
      ],
      "execution_count": 25,
      "outputs": [
        {
          "output_type": "execute_result",
          "data": {
            "text/plain": [
              "Index(['customer_id', 'date_of_purchase', 'total_amount_billed',\n",
              "       'payment_status', 'payment_method', 'promo_code',\n",
              "       'country_of_purchase'],\n",
              "      dtype='object')"
            ]
          },
          "metadata": {},
          "execution_count": 25
        }
      ]
    },
    {
      "cell_type": "code",
      "source": [
        "dataset2.columns\n"
      ],
      "metadata": {
        "colab": {
          "base_uri": "https://localhost:8080/"
        },
        "id": "TnpppgHEsXsW",
        "outputId": "1cfb0cf0-5bc7-43e6-cdb2-acff7415777a"
      },
      "execution_count": 26,
      "outputs": [
        {
          "output_type": "execute_result",
          "data": {
            "text/plain": [
              "Index(['customer_id', 'date_of_payment', 'amount_paid', 'payment_method',\n",
              "       'payment_status', 'late_payment_fee', 'country_of_payment'],\n",
              "      dtype='object')"
            ]
          },
          "metadata": {},
          "execution_count": 26
        }
      ]
    },
    {
      "cell_type": "code",
      "source": [
        "dataset3.columns\n"
      ],
      "metadata": {
        "colab": {
          "base_uri": "https://localhost:8080/"
        },
        "id": "8hWxIjIAsgoP",
        "outputId": "be17b899-c7cc-4056-9f3f-3a93fa60ee13"
      },
      "execution_count": 27,
      "outputs": [
        {
          "output_type": "execute_result",
          "data": {
            "text/plain": [
              "Index(['customer_id', 'date_of_refund', 'refund_amount', 'reason_for_refund',\n",
              "       'country_of_refund'],\n",
              "      dtype='object')"
            ]
          },
          "metadata": {},
          "execution_count": 27
        }
      ]
    },
    {
      "cell_type": "markdown",
      "source": [
        "## 3. Data Cleaning"
      ],
      "metadata": {
        "id": "3KIGNTMtgyzp"
      }
    },
    {
      "cell_type": "code",
      "metadata": {
        "id": "87pOSl5MhcdL"
      },
      "source": [
        "# Clean the data\n",
        "# Replace missing values in Total amount billed with 0\n",
        "dataset1['total_amount_billed'].fillna(value=0, inplace=True)\n",
        "# Replace missing values in Refund amount with 0\n",
        "dataset3['refund_amount'].fillna(value=0, inplace=True)"
      ],
      "execution_count": 32,
      "outputs": []
    },
    {
      "cell_type": "markdown",
      "source": [
        "## Mereging"
      ],
      "metadata": {
        "id": "CFk0HJBctIet"
      }
    },
    {
      "cell_type": "code",
      "source": [
        "# Merge the datasets\n",
        "\n",
        "# Rename the columns\n",
        "dataset1 = dataset1.rename(columns={\"date_of_purchase\": \"date\", \"country_of_purchase\": \"country\"})\n",
        "dataset2 = dataset2.rename(columns={\"date_of_payment\": \"date\", \"country_of_payment\": \"country\"})\n",
        "dataset3 = dataset3.rename(columns={\"date_of_refund\": \"date\", \"country_of_refund\": \"country\"})\n",
        "\n",
        "\n",
        "merged_dataset = pd.merge(dataset1, dataset2, on=['customer_id','date','country'],\n",
        "                          how='outer', suffixes = ('_purchase', '_payment'))\n",
        "merged_dataset = pd.merge(merged_dataset, dataset3, on=['customer_id','date','country'], \n",
        "                          how='outer', suffixes = ('_pp', '_refund'))\n",
        "\n",
        "merged_dataset.head()"
      ],
      "metadata": {
        "colab": {
          "base_uri": "https://localhost:8080/",
          "height": 270
        },
        "id": "szWlORRttL4-",
        "outputId": "1782e29a-cf77-4949-f1ff-08854a3a157e"
      },
      "execution_count": 50,
      "outputs": [
        {
          "output_type": "execute_result",
          "data": {
            "text/plain": [
              "   customer_id        date  total_amount_purchase payment_status_purchase  \\\n",
              "0          101  04/01/2021                  100.0                    paid   \n",
              "1          102  04/02/2021                  200.0                    paid   \n",
              "2          103  04/02/2021                   50.0                 overdue   \n",
              "3          104  04/03/2021                   75.0                disputed   \n",
              "4          105  04/04/2021                  125.0                    paid   \n",
              "\n",
              "  payment_method_purchase promo_code country  total_amount_payment  \\\n",
              "0             credit card     PROMO1     USA                 100.0   \n",
              "1           bank transfer     PROMO2     USA                   NaN   \n",
              "2             credit card        NaN      UK                   NaN   \n",
              "3                e-wallet     PROMO3      UK                   NaN   \n",
              "4             credit card     PROMO4     USA                   NaN   \n",
              "\n",
              "  payment_method_payment payment_status_payment  late_payment_fee  \\\n",
              "0            credit card                   paid               0.0   \n",
              "1                    NaN                    NaN               NaN   \n",
              "2                    NaN                    NaN               NaN   \n",
              "3                    NaN                    NaN               NaN   \n",
              "4                    NaN                    NaN               NaN   \n",
              "\n",
              "   total_amount reason_for_refund  \n",
              "0           NaN               NaN  \n",
              "1           NaN               NaN  \n",
              "2           NaN               NaN  \n",
              "3           NaN               NaN  \n",
              "4           NaN               NaN  "
            ],
            "text/html": [
              "\n",
              "  <div id=\"df-2d343099-35bf-4115-9856-84199ef18352\">\n",
              "    <div class=\"colab-df-container\">\n",
              "      <div>\n",
              "<style scoped>\n",
              "    .dataframe tbody tr th:only-of-type {\n",
              "        vertical-align: middle;\n",
              "    }\n",
              "\n",
              "    .dataframe tbody tr th {\n",
              "        vertical-align: top;\n",
              "    }\n",
              "\n",
              "    .dataframe thead th {\n",
              "        text-align: right;\n",
              "    }\n",
              "</style>\n",
              "<table border=\"1\" class=\"dataframe\">\n",
              "  <thead>\n",
              "    <tr style=\"text-align: right;\">\n",
              "      <th></th>\n",
              "      <th>customer_id</th>\n",
              "      <th>date</th>\n",
              "      <th>total_amount_purchase</th>\n",
              "      <th>payment_status_purchase</th>\n",
              "      <th>payment_method_purchase</th>\n",
              "      <th>promo_code</th>\n",
              "      <th>country</th>\n",
              "      <th>total_amount_payment</th>\n",
              "      <th>payment_method_payment</th>\n",
              "      <th>payment_status_payment</th>\n",
              "      <th>late_payment_fee</th>\n",
              "      <th>total_amount</th>\n",
              "      <th>reason_for_refund</th>\n",
              "    </tr>\n",
              "  </thead>\n",
              "  <tbody>\n",
              "    <tr>\n",
              "      <th>0</th>\n",
              "      <td>101</td>\n",
              "      <td>04/01/2021</td>\n",
              "      <td>100.0</td>\n",
              "      <td>paid</td>\n",
              "      <td>credit card</td>\n",
              "      <td>PROMO1</td>\n",
              "      <td>USA</td>\n",
              "      <td>100.0</td>\n",
              "      <td>credit card</td>\n",
              "      <td>paid</td>\n",
              "      <td>0.0</td>\n",
              "      <td>NaN</td>\n",
              "      <td>NaN</td>\n",
              "    </tr>\n",
              "    <tr>\n",
              "      <th>1</th>\n",
              "      <td>102</td>\n",
              "      <td>04/02/2021</td>\n",
              "      <td>200.0</td>\n",
              "      <td>paid</td>\n",
              "      <td>bank transfer</td>\n",
              "      <td>PROMO2</td>\n",
              "      <td>USA</td>\n",
              "      <td>NaN</td>\n",
              "      <td>NaN</td>\n",
              "      <td>NaN</td>\n",
              "      <td>NaN</td>\n",
              "      <td>NaN</td>\n",
              "      <td>NaN</td>\n",
              "    </tr>\n",
              "    <tr>\n",
              "      <th>2</th>\n",
              "      <td>103</td>\n",
              "      <td>04/02/2021</td>\n",
              "      <td>50.0</td>\n",
              "      <td>overdue</td>\n",
              "      <td>credit card</td>\n",
              "      <td>NaN</td>\n",
              "      <td>UK</td>\n",
              "      <td>NaN</td>\n",
              "      <td>NaN</td>\n",
              "      <td>NaN</td>\n",
              "      <td>NaN</td>\n",
              "      <td>NaN</td>\n",
              "      <td>NaN</td>\n",
              "    </tr>\n",
              "    <tr>\n",
              "      <th>3</th>\n",
              "      <td>104</td>\n",
              "      <td>04/03/2021</td>\n",
              "      <td>75.0</td>\n",
              "      <td>disputed</td>\n",
              "      <td>e-wallet</td>\n",
              "      <td>PROMO3</td>\n",
              "      <td>UK</td>\n",
              "      <td>NaN</td>\n",
              "      <td>NaN</td>\n",
              "      <td>NaN</td>\n",
              "      <td>NaN</td>\n",
              "      <td>NaN</td>\n",
              "      <td>NaN</td>\n",
              "    </tr>\n",
              "    <tr>\n",
              "      <th>4</th>\n",
              "      <td>105</td>\n",
              "      <td>04/04/2021</td>\n",
              "      <td>125.0</td>\n",
              "      <td>paid</td>\n",
              "      <td>credit card</td>\n",
              "      <td>PROMO4</td>\n",
              "      <td>USA</td>\n",
              "      <td>NaN</td>\n",
              "      <td>NaN</td>\n",
              "      <td>NaN</td>\n",
              "      <td>NaN</td>\n",
              "      <td>NaN</td>\n",
              "      <td>NaN</td>\n",
              "    </tr>\n",
              "  </tbody>\n",
              "</table>\n",
              "</div>\n",
              "      <button class=\"colab-df-convert\" onclick=\"convertToInteractive('df-2d343099-35bf-4115-9856-84199ef18352')\"\n",
              "              title=\"Convert this dataframe to an interactive table.\"\n",
              "              style=\"display:none;\">\n",
              "        \n",
              "  <svg xmlns=\"http://www.w3.org/2000/svg\" height=\"24px\"viewBox=\"0 0 24 24\"\n",
              "       width=\"24px\">\n",
              "    <path d=\"M0 0h24v24H0V0z\" fill=\"none\"/>\n",
              "    <path d=\"M18.56 5.44l.94 2.06.94-2.06 2.06-.94-2.06-.94-.94-2.06-.94 2.06-2.06.94zm-11 1L8.5 8.5l.94-2.06 2.06-.94-2.06-.94L8.5 2.5l-.94 2.06-2.06.94zm10 10l.94 2.06.94-2.06 2.06-.94-2.06-.94-.94-2.06-.94 2.06-2.06.94z\"/><path d=\"M17.41 7.96l-1.37-1.37c-.4-.4-.92-.59-1.43-.59-.52 0-1.04.2-1.43.59L10.3 9.45l-7.72 7.72c-.78.78-.78 2.05 0 2.83L4 21.41c.39.39.9.59 1.41.59.51 0 1.02-.2 1.41-.59l7.78-7.78 2.81-2.81c.8-.78.8-2.07 0-2.86zM5.41 20L4 18.59l7.72-7.72 1.47 1.35L5.41 20z\"/>\n",
              "  </svg>\n",
              "      </button>\n",
              "      \n",
              "  <style>\n",
              "    .colab-df-container {\n",
              "      display:flex;\n",
              "      flex-wrap:wrap;\n",
              "      gap: 12px;\n",
              "    }\n",
              "\n",
              "    .colab-df-convert {\n",
              "      background-color: #E8F0FE;\n",
              "      border: none;\n",
              "      border-radius: 50%;\n",
              "      cursor: pointer;\n",
              "      display: none;\n",
              "      fill: #1967D2;\n",
              "      height: 32px;\n",
              "      padding: 0 0 0 0;\n",
              "      width: 32px;\n",
              "    }\n",
              "\n",
              "    .colab-df-convert:hover {\n",
              "      background-color: #E2EBFA;\n",
              "      box-shadow: 0px 1px 2px rgba(60, 64, 67, 0.3), 0px 1px 3px 1px rgba(60, 64, 67, 0.15);\n",
              "      fill: #174EA6;\n",
              "    }\n",
              "\n",
              "    [theme=dark] .colab-df-convert {\n",
              "      background-color: #3B4455;\n",
              "      fill: #D2E3FC;\n",
              "    }\n",
              "\n",
              "    [theme=dark] .colab-df-convert:hover {\n",
              "      background-color: #434B5C;\n",
              "      box-shadow: 0px 1px 3px 1px rgba(0, 0, 0, 0.15);\n",
              "      filter: drop-shadow(0px 1px 2px rgba(0, 0, 0, 0.3));\n",
              "      fill: #FFFFFF;\n",
              "    }\n",
              "  </style>\n",
              "\n",
              "      <script>\n",
              "        const buttonEl =\n",
              "          document.querySelector('#df-2d343099-35bf-4115-9856-84199ef18352 button.colab-df-convert');\n",
              "        buttonEl.style.display =\n",
              "          google.colab.kernel.accessAllowed ? 'block' : 'none';\n",
              "\n",
              "        async function convertToInteractive(key) {\n",
              "          const element = document.querySelector('#df-2d343099-35bf-4115-9856-84199ef18352');\n",
              "          const dataTable =\n",
              "            await google.colab.kernel.invokeFunction('convertToInteractive',\n",
              "                                                     [key], {});\n",
              "          if (!dataTable) return;\n",
              "\n",
              "          const docLinkHtml = 'Like what you see? Visit the ' +\n",
              "            '<a target=\"_blank\" href=https://colab.research.google.com/notebooks/data_table.ipynb>data table notebook</a>'\n",
              "            + ' to learn more about interactive tables.';\n",
              "          element.innerHTML = '';\n",
              "          dataTable['output_type'] = 'display_data';\n",
              "          await google.colab.output.renderOutput(dataTable, element);\n",
              "          const docLink = document.createElement('div');\n",
              "          docLink.innerHTML = docLinkHtml;\n",
              "          element.appendChild(docLink);\n",
              "        }\n",
              "      </script>\n",
              "    </div>\n",
              "  </div>\n",
              "  "
            ]
          },
          "metadata": {},
          "execution_count": 50
        }
      ]
    },
    {
      "cell_type": "code",
      "source": [
        "merged_dataset.columns"
      ],
      "metadata": {
        "colab": {
          "base_uri": "https://localhost:8080/"
        },
        "id": "E8gtZUotxrWz",
        "outputId": "4836fa15-ba90-441a-f005-08cc3db366fa"
      },
      "execution_count": 53,
      "outputs": [
        {
          "output_type": "execute_result",
          "data": {
            "text/plain": [
              "Index(['customer_id', 'date', 'total_amount_purchase',\n",
              "       'payment_status_purchase', 'payment_method_purchase', 'promo_code',\n",
              "       'country', 'total_amount_payment', 'payment_method_payment',\n",
              "       'payment_status_payment', 'late_payment_fee', 'total_amount',\n",
              "       'reason_for_refund'],\n",
              "      dtype='object')"
            ]
          },
          "metadata": {},
          "execution_count": 53
        }
      ]
    },
    {
      "cell_type": "code",
      "source": [
        "# Clean the data further\n",
        "# Replace missing values in Amount paid with 0\n",
        "merged_dataset['total_amount_payment'].fillna(value=0, inplace=True)\n",
        "# Replace missing values in Late payment fee with 0\n",
        "merged_dataset['late_payment_fee'].fillna(value=0, inplace=True)\n",
        "# Replace missing values in Promo code with 'NA'\n",
        "merged_dataset['promo_code'].fillna(value='NA', inplace=True)\n",
        "# Replace missing values in Reason for refund with 'NA'\n",
        "merged_dataset['reason_for_refund'].fillna(value='NA', inplace=True)"
      ],
      "metadata": {
        "id": "796WFz-Kxp4i"
      },
      "execution_count": 52,
      "outputs": []
    },
    {
      "cell_type": "markdown",
      "source": [
        "## 4. Data transformation"
      ],
      "metadata": {
        "id": "gmHrIIw-hLJv"
      }
    },
    {
      "cell_type": "code",
      "metadata": {
        "id": "a8yvg3qQl_HF"
      },
      "source": [
        "# Transform the data\n",
        "merged_dataset['date'] = pd.to_datetime(merged_dataset['date'], format='%m/%d/%Y')\n",
        "\n",
        "# Convert Total amount billed, Amount paid, Refund amount, and Late payment fee to float\n",
        "merged_dataset['total_amount_purchase'] = pd.to_numeric(merged_dataset['total_amount_purchase'], errors='coerce')\n",
        "merged_dataset['total_amount_payment'] = pd.to_numeric(merged_dataset['total_amount_payment'], errors='coerce')\n",
        "merged_dataset['total_amount'] = pd.to_numeric(merged_dataset['total_amount'], errors='coerce')\n",
        "merged_dataset['late_payment_fee'] = pd.to_numeric(merged_dataset['late_payment_fee'], errors='coerce')\n"
      ],
      "execution_count": 55,
      "outputs": []
    },
    {
      "cell_type": "code",
      "source": [
        "# Aggregate the data\n",
        "# Compute the difference between Total amount billed and Amount paid as Balance due\n",
        "merged_dataset['balance_due'] = merged_dataset['total_amount_purchase'] - merged_dataset['total_amount_payment']\n"
      ],
      "metadata": {
        "id": "DH1Wjxso-tIk"
      },
      "execution_count": 56,
      "outputs": []
    },
    {
      "cell_type": "code",
      "source": [
        "# Filter the data\n",
        "# Keep only the rows where Balance due is greater than 0\n",
        "merged_dataset = merged_dataset[merged_dataset['balance_due'] > 0]"
      ],
      "metadata": {
        "id": "GEs09PSF_Geb"
      },
      "execution_count": 57,
      "outputs": []
    },
    {
      "cell_type": "markdown",
      "source": [
        "## 5. Save final pipeline output"
      ],
      "metadata": {
        "id": "TCG5mM35hoOY"
      }
    },
    {
      "cell_type": "code",
      "source": [
        "# Output the data to a CSV file\n",
        "merged_dataset.to_csv('billing_data.csv', index=False)"
      ],
      "metadata": {
        "id": "Hfx-DMAj_VXB"
      },
      "execution_count": 58,
      "outputs": []
    },
    {
      "cell_type": "markdown",
      "metadata": {
        "id": "HPQviDmNtta8"
      },
      "source": [
        "### a). Did we have the right data?"
      ]
    },
    {
      "cell_type": "markdown",
      "metadata": {
        "id": "SyJMFjvmKePc"
      },
      "source": [
        "Yeah, to answer the questions given."
      ]
    },
    {
      "cell_type": "markdown",
      "metadata": {
        "id": "qjFHK1CKty7o"
      },
      "source": [
        "### b). Do we need other data to answer our question?"
      ]
    },
    {
      "cell_type": "markdown",
      "metadata": {
        "id": "nOgfjvkvD7FP"
      },
      "source": [
        "For the required analysis this data is sufficient for now."
      ]
    },
    {
      "cell_type": "markdown",
      "metadata": {
        "id": "HSsicSdvt4Zs"
      },
      "source": [
        "### c). Did we have the right question?"
      ]
    },
    {
      "cell_type": "markdown",
      "metadata": {
        "id": "DvVFZGvNKfSv"
      },
      "source": [
        "Yes as to meet the brief."
      ]
    }
  ]
}